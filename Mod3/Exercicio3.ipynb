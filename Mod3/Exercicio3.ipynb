{
 "cells": [
  {
   "cell_type": "code",
   "execution_count": 1,
   "id": "586e2ead",
   "metadata": {},
   "outputs": [],
   "source": [
    "import csv"
   ]
  },
  {
   "cell_type": "code",
   "execution_count": 2,
   "id": "a2fc191b",
   "metadata": {},
   "outputs": [],
   "source": [
    "with open('alunos.csv','r',encoding='utf-8') as arquivo_alunos:\n",
    "    leitor = csv.reader(arquivo_alunos)\n",
    "    header = next(leitor)\n",
    "    \n",
    "    with open('alunos_media.csv','w',encoding='utf-8', newline='') as arquivo_alunos_media:\n",
    "        escritor = csv.writer(arquivo_alunos_media)\n",
    "        header.append('Media')\n",
    "        escritor.writerow(header)\n",
    "        \n",
    "        for linha in leitor:  \n",
    "            soma_notas = float(linha[3]) + float(linha[4]) + float(linha[5]) + float(linha[6]) \n",
    "            media = soma_notas/4\n",
    "            escritor.writerow(linha+[media])"
   ]
  },
  {
   "cell_type": "code",
   "execution_count": null,
   "id": "01e0cbdc",
   "metadata": {},
   "outputs": [],
   "source": []
  }
 ],
 "metadata": {
  "kernelspec": {
   "display_name": "Python 3 (ipykernel)",
   "language": "python",
   "name": "python3"
  },
  "language_info": {
   "codemirror_mode": {
    "name": "ipython",
    "version": 3
   },
   "file_extension": ".py",
   "mimetype": "text/x-python",
   "name": "python",
   "nbconvert_exporter": "python",
   "pygments_lexer": "ipython3",
   "version": "3.10.7"
  }
 },
 "nbformat": 4,
 "nbformat_minor": 5
}
