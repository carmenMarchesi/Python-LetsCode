{
 "cells": [
  {
   "cell_type": "code",
   "execution_count": 1,
   "id": "cf48a0ba",
   "metadata": {},
   "outputs": [],
   "source": [
    "import csv"
   ]
  },
  {
   "cell_type": "code",
   "execution_count": 2,
   "id": "ef5cae6b",
   "metadata": {},
   "outputs": [],
   "source": [
    "with open('alunos.csv','r',encoding='utf-8') as arquivo_alunos:\n",
    "    leitor = csv.reader(arquivo_alunos)\n",
    "    with open('alunos_copia.csv','w',encoding='utf-8', newline='') as arquivo_alunos2:\n",
    "        escritor = csv.writer(arquivo_alunos2)\n",
    "        \n",
    "        for linha in leitor:\n",
    "            escritor.writerow(linha)"
   ]
  },
  {
   "cell_type": "code",
   "execution_count": null,
   "id": "f8c801fd",
   "metadata": {},
   "outputs": [],
   "source": []
  }
 ],
 "metadata": {
  "kernelspec": {
   "display_name": "Python 3 (ipykernel)",
   "language": "python",
   "name": "python3"
  },
  "language_info": {
   "codemirror_mode": {
    "name": "ipython",
    "version": 3
   },
   "file_extension": ".py",
   "mimetype": "text/x-python",
   "name": "python",
   "nbconvert_exporter": "python",
   "pygments_lexer": "ipython3",
   "version": "3.10.7"
  }
 },
 "nbformat": 4,
 "nbformat_minor": 5
}
