{
 "cells": [
  {
   "cell_type": "code",
   "execution_count": 1,
   "id": "3fd3d88c",
   "metadata": {},
   "outputs": [],
   "source": [
    "import requests"
   ]
  },
  {
   "cell_type": "code",
   "execution_count": 2,
   "id": "a409e064",
   "metadata": {},
   "outputs": [
    {
     "name": "stdout",
     "output_type": "stream",
     "text": [
      "200\n"
     ]
    }
   ],
   "source": [
    "url = 'https://swapi.dev/api/people/4/'\n",
    "rs = requests.get(url)\n",
    "\n",
    "print(rs.status_code)"
   ]
  },
  {
   "cell_type": "code",
   "execution_count": 3,
   "id": "df9b1fdd",
   "metadata": {},
   "outputs": [
    {
     "name": "stdout",
     "output_type": "stream",
     "text": [
      "{'name': 'Darth Vader', 'height': '202', 'mass': '136', 'hair_color': 'none', 'skin_color': 'white', 'eye_color': 'yellow', 'birth_year': '41.9BBY', 'gender': 'male', 'homeworld': 'https://swapi.dev/api/planets/1/', 'films': ['https://swapi.dev/api/films/1/', 'https://swapi.dev/api/films/2/', 'https://swapi.dev/api/films/3/', 'https://swapi.dev/api/films/6/'], 'species': [], 'vehicles': [], 'starships': ['https://swapi.dev/api/starships/13/'], 'created': '2014-12-10T15:18:20.704000Z', 'edited': '2014-12-20T21:17:50.313000Z', 'url': 'https://swapi.dev/api/people/4/'}\n"
     ]
    }
   ],
   "source": [
    "dados = rs.json()\n",
    "print(dados)"
   ]
  },
  {
   "cell_type": "code",
   "execution_count": 4,
   "id": "1c0e1bf9",
   "metadata": {},
   "outputs": [
    {
     "name": "stdout",
     "output_type": "stream",
     "text": [
      "Dados: \n",
      "\n",
      "Nome: Darth Vader\n",
      "Altura: 2.02\n",
      "Peso: 136 kg\n",
      "Ano de Nascimento: 41.9BBY\n"
     ]
    }
   ],
   "source": [
    "nome = dados['name']\n",
    "altura = float(dados['height'])/100\n",
    "massa = dados['mass']\n",
    "ano_nascimento = dados['birth_year']\n",
    "print('Dados: \\n')\n",
    "print(f'Nome: {nome}\\nAltura: {altura}\\nPeso: {massa} kg\\nAno de Nascimento: {ano_nascimento}')"
   ]
  },
  {
   "cell_type": "code",
   "execution_count": null,
   "id": "82360d35",
   "metadata": {},
   "outputs": [],
   "source": []
  }
 ],
 "metadata": {
  "kernelspec": {
   "display_name": "Python 3 (ipykernel)",
   "language": "python",
   "name": "python3"
  },
  "language_info": {
   "codemirror_mode": {
    "name": "ipython",
    "version": 3
   },
   "file_extension": ".py",
   "mimetype": "text/x-python",
   "name": "python",
   "nbconvert_exporter": "python",
   "pygments_lexer": "ipython3",
   "version": "3.10.7"
  }
 },
 "nbformat": 4,
 "nbformat_minor": 5
}
