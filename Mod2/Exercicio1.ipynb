{
 "cells": [
  {
   "cell_type": "code",
   "execution_count": 1,
   "id": "580d7532",
   "metadata": {},
   "outputs": [
    {
     "name": "stdout",
     "output_type": "stream",
     "text": [
      "Há 5 números pares na lista\n",
      "[30, 18, 8, 72, 10]\n"
     ]
    }
   ],
   "source": [
    "idades = [30, 18, 41, 8, 3, 72, 55, 10, 15]\n",
    "lista_pares = []\n",
    "qtdPares = 0\n",
    "for numero in idades:\n",
    "    if (numero % 2 == 0):\n",
    "        qtdPares = qtdPares + 1\n",
    "        lista_pares.append(numero)\n",
    "\n",
    "print(f'Há {qtdPares} números pares na lista')\n",
    "print(lista_pares)"
   ]
  },
  {
   "cell_type": "code",
   "execution_count": null,
   "id": "0b7e9549",
   "metadata": {},
   "outputs": [],
   "source": []
  }
 ],
 "metadata": {
  "kernelspec": {
   "display_name": "Python 3 (ipykernel)",
   "language": "python",
   "name": "python3"
  },
  "language_info": {
   "codemirror_mode": {
    "name": "ipython",
    "version": 3
   },
   "file_extension": ".py",
   "mimetype": "text/x-python",
   "name": "python",
   "nbconvert_exporter": "python",
   "pygments_lexer": "ipython3",
   "version": "3.10.7"
  }
 },
 "nbformat": 4,
 "nbformat_minor": 5
}
