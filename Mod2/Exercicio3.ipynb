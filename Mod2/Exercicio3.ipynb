{
 "cells": [
  {
   "cell_type": "code",
   "execution_count": 1,
   "id": "940945b0",
   "metadata": {},
   "outputs": [],
   "source": [
    "def soma_listas(lista1, lista2):\n",
    "    lista_soma = []\n",
    "    \n",
    "    for i in range(len(lista1)):\n",
    "        lista_soma.append( lista1[i] + lista2[i])\n",
    "    \n",
    "    return lista_soma"
   ]
  },
  {
   "cell_type": "code",
   "execution_count": 2,
   "id": "99708484",
   "metadata": {},
   "outputs": [
    {
     "name": "stdout",
     "output_type": "stream",
     "text": [
      "Quantos dados você quer nas listas? 3\n",
      "Digite o número 1 da primeira lista: 1\n",
      "Digite o número 2 da primeira lista: 4\n",
      "Digite o número 3 da primeira lista: 3\n",
      "Digite o número 1 da segunda lista: 3\n",
      "Digite o número 2 da segunda lista: 5\n",
      "Digite o número 3 da segunda lista: 1\n",
      "Lista 1 = [1, 4, 3]\n",
      "Lista 2 = [3, 5, 1]\n",
      "Soma das Listas: [4, 9, 4]\n"
     ]
    }
   ],
   "source": [
    "qtdValores = input('Quantos dados você quer nas listas? ')\n",
    "lista1 = []\n",
    "lista2 = []\n",
    "for qtd in range(int(qtdValores)):\n",
    "    lista1.append(int(input(f'Digite o número {qtd+1} da primeira lista: ')))\n",
    "\n",
    "for qtd2 in range(int(qtdValores)):\n",
    "     lista2.append(int(input(f'Digite o número {qtd2+1} da segunda lista: ')))\n",
    "\n",
    "print(f'Lista 1 = {lista1}')\n",
    "print(f'Lista 2 = {lista2}')\n",
    "print(f'Soma das Listas: {soma_listas(lista1, lista2)}')"
   ]
  },
  {
   "cell_type": "code",
   "execution_count": null,
   "id": "ab8f27c7",
   "metadata": {},
   "outputs": [],
   "source": []
  }
 ],
 "metadata": {
  "kernelspec": {
   "display_name": "Python 3 (ipykernel)",
   "language": "python",
   "name": "python3"
  },
  "language_info": {
   "codemirror_mode": {
    "name": "ipython",
    "version": 3
   },
   "file_extension": ".py",
   "mimetype": "text/x-python",
   "name": "python",
   "nbconvert_exporter": "python",
   "pygments_lexer": "ipython3",
   "version": "3.10.7"
  }
 },
 "nbformat": 4,
 "nbformat_minor": 5
}
