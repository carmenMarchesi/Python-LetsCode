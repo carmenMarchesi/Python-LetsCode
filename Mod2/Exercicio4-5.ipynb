{
 "cells": [
  {
   "cell_type": "code",
   "execution_count": 1,
   "id": "9f61fabd",
   "metadata": {},
   "outputs": [],
   "source": [
    "dic_ano = {\n",
    "    'Janeiro': 31,\n",
    "    'Fevereiro': 28,\n",
    "    'Março': 31,\n",
    "    'Abril': 30,\n",
    "    'Maio': 31,\n",
    "    'Junho': 30,\n",
    "    'Julho': 31,\n",
    "    'Agosto': 31,\n",
    "    'Setembro': 30,\n",
    "    'Outubro': 31,\n",
    "    'Novembro': 30,\n",
    "    'Dezembro': 31\n",
    "}"
   ]
  },
  {
   "cell_type": "code",
   "execution_count": 2,
   "id": "4b158e4b",
   "metadata": {},
   "outputs": [
    {
     "name": "stdout",
     "output_type": "stream",
     "text": [
      "Janeiro : 31\n",
      "Fevereiro : 28\n",
      "Março : 31\n",
      "Abril : 30\n",
      "Maio : 31\n",
      "Junho : 30\n",
      "Julho : 31\n",
      "Agosto : 31\n",
      "Setembro : 30\n",
      "Outubro : 31\n",
      "Novembro : 30\n",
      "Dezembro : 31\n"
     ]
    }
   ],
   "source": [
    "for chave in dic_ano:\n",
    "    print(f'{chave} : {dic_ano[chave]}')"
   ]
  },
  {
   "cell_type": "code",
   "execution_count": null,
   "id": "2dc9ca2f",
   "metadata": {},
   "outputs": [],
   "source": []
  }
 ],
 "metadata": {
  "kernelspec": {
   "display_name": "Python 3 (ipykernel)",
   "language": "python",
   "name": "python3"
  },
  "language_info": {
   "codemirror_mode": {
    "name": "ipython",
    "version": 3
   },
   "file_extension": ".py",
   "mimetype": "text/x-python",
   "name": "python",
   "nbconvert_exporter": "python",
   "pygments_lexer": "ipython3",
   "version": "3.10.7"
  }
 },
 "nbformat": 4,
 "nbformat_minor": 5
}
