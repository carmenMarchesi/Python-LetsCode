{
 "cells": [
  {
   "cell_type": "code",
   "execution_count": 7,
   "id": "2eda1d9f",
   "metadata": {},
   "outputs": [
    {
     "name": "stdout",
     "output_type": "stream",
     "text": [
      "Mora perto da vítima? sim\n",
      "Já trabalhou com a vítima? sim\n",
      "Telefonou para a vítima? sim\n",
      "Esteve no local do crime? sim\n",
      "Devia para a vítima? sim\n",
      "Você foi considerado o assassino!\n"
     ]
    }
   ],
   "source": [
    "pontos = 0\n",
    "p_a = input(\"Mora perto da vítima? \").upper()\n",
    "if p_a == \"SIM\":\n",
    "    pontos = pontos + 1\n",
    "    \n",
    "p_b = input(\"Já trabalhou com a vítima? \").upper()\n",
    "if p_b == \"SIM\":\n",
    "    pontos = pontos + 1\n",
    "    \n",
    "p_c = input(\"Telefonou para a vítima? \").upper()\n",
    "if p_c == \"SIM\":\n",
    "    pontos = pontos + 1\n",
    "    \n",
    "p_d = input(\"Esteve no local do crime? \").upper()\n",
    "if p_d == \"SIM\":\n",
    "    pontos = pontos + 1\n",
    "    \n",
    "p_e = input(\"Devia para a vítima? \").upper()\n",
    "if p_e == \"SIM\":\n",
    "    pontos = pontos + 1\n",
    "\n",
    "if pontos <=1 :\n",
    "    print(\"Você é inocente, está liberado!\")\n",
    "elif pontos <= 2 :\n",
    "    print(\"Você é considerado um suspeito!\")\n",
    "elif pontos <= 4 :\n",
    "    print(\"Você é considerado um cúmplice!\")\n",
    "else :\n",
    "    print(\"Você foi considerado o assassino!\")\n"
   ]
  },
  {
   "cell_type": "code",
   "execution_count": null,
   "id": "8a0c0da7",
   "metadata": {},
   "outputs": [],
   "source": []
  }
 ],
 "metadata": {
  "kernelspec": {
   "display_name": "Python 3 (ipykernel)",
   "language": "python",
   "name": "python3"
  },
  "language_info": {
   "codemirror_mode": {
    "name": "ipython",
    "version": 3
   },
   "file_extension": ".py",
   "mimetype": "text/x-python",
   "name": "python",
   "nbconvert_exporter": "python",
   "pygments_lexer": "ipython3",
   "version": "3.10.7"
  }
 },
 "nbformat": 4,
 "nbformat_minor": 5
}
