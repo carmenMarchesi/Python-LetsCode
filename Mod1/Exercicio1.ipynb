{
 "cells": [
  {
   "cell_type": "code",
   "execution_count": 1,
   "id": "6f2dfe6b",
   "metadata": {},
   "outputs": [
    {
     "name": "stdout",
     "output_type": "stream",
     "text": [
      "Digite um valor em R$: 20.0\n",
      "O novo valor é R$  17.0\n"
     ]
    }
   ],
   "source": [
    "valor = float(input(\"Digite um valor em R$: \"))\n",
    "\n",
    "valor_desconto = valor * 0.85\n",
    "\n",
    "print('O novo valor é R$ ', valor_desconto)"
   ]
  },
  {
   "cell_type": "code",
   "execution_count": null,
   "id": "eff7208d",
   "metadata": {},
   "outputs": [],
   "source": []
  }
 ],
 "metadata": {
  "kernelspec": {
   "display_name": "Python 3 (ipykernel)",
   "language": "python",
   "name": "python3"
  },
  "language_info": {
   "codemirror_mode": {
    "name": "ipython",
    "version": 3
   },
   "file_extension": ".py",
   "mimetype": "text/x-python",
   "name": "python",
   "nbconvert_exporter": "python",
   "pygments_lexer": "ipython3",
   "version": "3.10.7"
  }
 },
 "nbformat": 4,
 "nbformat_minor": 5
}
