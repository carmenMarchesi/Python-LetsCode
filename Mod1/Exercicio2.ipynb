{
 "cells": [
  {
   "cell_type": "code",
   "execution_count": 13,
   "id": "1688a0ce",
   "metadata": {},
   "outputs": [
    {
     "name": "stdout",
     "output_type": "stream",
     "text": [
      "Digite uma idade: 30\n",
      "Digite um salário: 3.500\n",
      "Sexo: outro\n",
      "Idade:  30\n",
      "Salário: R$ 3.500\n",
      "Sexo:  OUTRO\n"
     ]
    }
   ],
   "source": [
    "idade = int(input(\"Digite uma idade: \"))\n",
    "\n",
    "while idade < 0 or idade > 150:\n",
    "    print(\"Idade fora do limite permitido\")\n",
    "    idade = int(input(\"Digite novamente uma idade: \"))\n",
    "\n",
    "salario = float(input(\"Digite um salário: \"))\n",
    "\n",
    "while salario <= 0 :\n",
    "    print(\"O salário deve ser maior do que 0\")\n",
    "    salario = float(input(\"Digite um salário novamente\"))\n",
    "\n",
    "sexo = input(\"Sexo: \").upper()\n",
    "\n",
    "while sexo != \"F\" and sexo != \"M\" and sexo != \"OUTRO\" :\n",
    "    sexo = input(\"Digite um sexo válido: M, F ou Outro: \").upper()\n",
    "\n",
    "print(\"Idade: \", idade)\n",
    "print(\"Salário: R$ %.3f\"% salario)\n",
    "print(\"Sexo: \", sexo)\n",
    "\n"
   ]
  },
  {
   "cell_type": "code",
   "execution_count": null,
   "id": "e0de25c9",
   "metadata": {},
   "outputs": [],
   "source": []
  }
 ],
 "metadata": {
  "kernelspec": {
   "display_name": "Python 3 (ipykernel)",
   "language": "python",
   "name": "python3"
  },
  "language_info": {
   "codemirror_mode": {
    "name": "ipython",
    "version": 3
   },
   "file_extension": ".py",
   "mimetype": "text/x-python",
   "name": "python",
   "nbconvert_exporter": "python",
   "pygments_lexer": "ipython3",
   "version": "3.10.7"
  }
 },
 "nbformat": 4,
 "nbformat_minor": 5
}
